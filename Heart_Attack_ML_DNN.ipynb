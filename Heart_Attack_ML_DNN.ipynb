{
 "cells": [
  {
   "cell_type": "code",
   "execution_count": 24,
   "metadata": {
    "collapsed": true
   },
   "outputs": [],
   "source": [
    "import numpy as np\n",
    "import matplotlib.pyplot as plt\n",
    "import pandas as pd\n",
    "\n",
    "import warnings\n",
    "warnings.filterwarnings('ignore')\n",
    "\n",
    "from sklearn.model_selection import train_test_split\n",
    "\n",
    "from sklearn.tree import DecisionTreeClassifier\n",
    "from sklearn.linear_model import LogisticRegression\n",
    "from sklearn.ensemble import RandomForestRegressor\n",
    "from sklearn.naive_bayes import GaussianNB\n",
    "from sklearn.svm import SVC\n",
    "from sklearn.neighbors import KNeighborsClassifier"
   ]
  },
  {
   "cell_type": "code",
   "execution_count": 2,
   "outputs": [
    {
     "data": {
      "text/plain": "      age  sex  cp  trestbps  chol  fbs  restecg  thalach  exang  oldpeak  \\\n0      52    1   0       125   212    0        1      168      0      1.0   \n1      53    1   0       140   203    1        0      155      1      3.1   \n2      70    1   0       145   174    0        1      125      1      2.6   \n3      61    1   0       148   203    0        1      161      0      0.0   \n4      62    0   0       138   294    1        1      106      0      1.9   \n...   ...  ...  ..       ...   ...  ...      ...      ...    ...      ...   \n1020   59    1   1       140   221    0        1      164      1      0.0   \n1021   60    1   0       125   258    0        0      141      1      2.8   \n1022   47    1   0       110   275    0        0      118      1      1.0   \n1023   50    0   0       110   254    0        0      159      0      0.0   \n1024   54    1   0       120   188    0        1      113      0      1.4   \n\n      slope  ca  thal  target  \n0         2   2     3       0  \n1         0   0     3       0  \n2         0   0     3       0  \n3         2   1     3       0  \n4         1   3     2       0  \n...     ...  ..   ...     ...  \n1020      2   0     2       1  \n1021      1   1     3       0  \n1022      1   1     2       0  \n1023      2   0     2       1  \n1024      1   1     3       0  \n\n[1025 rows x 14 columns]",
      "text/html": "<div>\n<style scoped>\n    .dataframe tbody tr th:only-of-type {\n        vertical-align: middle;\n    }\n\n    .dataframe tbody tr th {\n        vertical-align: top;\n    }\n\n    .dataframe thead th {\n        text-align: right;\n    }\n</style>\n<table border=\"1\" class=\"dataframe\">\n  <thead>\n    <tr style=\"text-align: right;\">\n      <th></th>\n      <th>age</th>\n      <th>sex</th>\n      <th>cp</th>\n      <th>trestbps</th>\n      <th>chol</th>\n      <th>fbs</th>\n      <th>restecg</th>\n      <th>thalach</th>\n      <th>exang</th>\n      <th>oldpeak</th>\n      <th>slope</th>\n      <th>ca</th>\n      <th>thal</th>\n      <th>target</th>\n    </tr>\n  </thead>\n  <tbody>\n    <tr>\n      <th>0</th>\n      <td>52</td>\n      <td>1</td>\n      <td>0</td>\n      <td>125</td>\n      <td>212</td>\n      <td>0</td>\n      <td>1</td>\n      <td>168</td>\n      <td>0</td>\n      <td>1.0</td>\n      <td>2</td>\n      <td>2</td>\n      <td>3</td>\n      <td>0</td>\n    </tr>\n    <tr>\n      <th>1</th>\n      <td>53</td>\n      <td>1</td>\n      <td>0</td>\n      <td>140</td>\n      <td>203</td>\n      <td>1</td>\n      <td>0</td>\n      <td>155</td>\n      <td>1</td>\n      <td>3.1</td>\n      <td>0</td>\n      <td>0</td>\n      <td>3</td>\n      <td>0</td>\n    </tr>\n    <tr>\n      <th>2</th>\n      <td>70</td>\n      <td>1</td>\n      <td>0</td>\n      <td>145</td>\n      <td>174</td>\n      <td>0</td>\n      <td>1</td>\n      <td>125</td>\n      <td>1</td>\n      <td>2.6</td>\n      <td>0</td>\n      <td>0</td>\n      <td>3</td>\n      <td>0</td>\n    </tr>\n    <tr>\n      <th>3</th>\n      <td>61</td>\n      <td>1</td>\n      <td>0</td>\n      <td>148</td>\n      <td>203</td>\n      <td>0</td>\n      <td>1</td>\n      <td>161</td>\n      <td>0</td>\n      <td>0.0</td>\n      <td>2</td>\n      <td>1</td>\n      <td>3</td>\n      <td>0</td>\n    </tr>\n    <tr>\n      <th>4</th>\n      <td>62</td>\n      <td>0</td>\n      <td>0</td>\n      <td>138</td>\n      <td>294</td>\n      <td>1</td>\n      <td>1</td>\n      <td>106</td>\n      <td>0</td>\n      <td>1.9</td>\n      <td>1</td>\n      <td>3</td>\n      <td>2</td>\n      <td>0</td>\n    </tr>\n    <tr>\n      <th>...</th>\n      <td>...</td>\n      <td>...</td>\n      <td>...</td>\n      <td>...</td>\n      <td>...</td>\n      <td>...</td>\n      <td>...</td>\n      <td>...</td>\n      <td>...</td>\n      <td>...</td>\n      <td>...</td>\n      <td>...</td>\n      <td>...</td>\n      <td>...</td>\n    </tr>\n    <tr>\n      <th>1020</th>\n      <td>59</td>\n      <td>1</td>\n      <td>1</td>\n      <td>140</td>\n      <td>221</td>\n      <td>0</td>\n      <td>1</td>\n      <td>164</td>\n      <td>1</td>\n      <td>0.0</td>\n      <td>2</td>\n      <td>0</td>\n      <td>2</td>\n      <td>1</td>\n    </tr>\n    <tr>\n      <th>1021</th>\n      <td>60</td>\n      <td>1</td>\n      <td>0</td>\n      <td>125</td>\n      <td>258</td>\n      <td>0</td>\n      <td>0</td>\n      <td>141</td>\n      <td>1</td>\n      <td>2.8</td>\n      <td>1</td>\n      <td>1</td>\n      <td>3</td>\n      <td>0</td>\n    </tr>\n    <tr>\n      <th>1022</th>\n      <td>47</td>\n      <td>1</td>\n      <td>0</td>\n      <td>110</td>\n      <td>275</td>\n      <td>0</td>\n      <td>0</td>\n      <td>118</td>\n      <td>1</td>\n      <td>1.0</td>\n      <td>1</td>\n      <td>1</td>\n      <td>2</td>\n      <td>0</td>\n    </tr>\n    <tr>\n      <th>1023</th>\n      <td>50</td>\n      <td>0</td>\n      <td>0</td>\n      <td>110</td>\n      <td>254</td>\n      <td>0</td>\n      <td>0</td>\n      <td>159</td>\n      <td>0</td>\n      <td>0.0</td>\n      <td>2</td>\n      <td>0</td>\n      <td>2</td>\n      <td>1</td>\n    </tr>\n    <tr>\n      <th>1024</th>\n      <td>54</td>\n      <td>1</td>\n      <td>0</td>\n      <td>120</td>\n      <td>188</td>\n      <td>0</td>\n      <td>1</td>\n      <td>113</td>\n      <td>0</td>\n      <td>1.4</td>\n      <td>1</td>\n      <td>1</td>\n      <td>3</td>\n      <td>0</td>\n    </tr>\n  </tbody>\n</table>\n<p>1025 rows × 14 columns</p>\n</div>"
     },
     "execution_count": 2,
     "metadata": {},
     "output_type": "execute_result"
    }
   ],
   "source": [
    "df=pd.read_csv(\"heart.csv\")\n",
    "df"
   ],
   "metadata": {
    "collapsed": false
   }
  },
  {
   "cell_type": "code",
   "execution_count": 3,
   "outputs": [],
   "source": [
    "x=df.drop(\"target\",axis=1)\n",
    "y=df['target']"
   ],
   "metadata": {
    "collapsed": false
   }
  },
  {
   "cell_type": "code",
   "execution_count": 5,
   "outputs": [
    {
     "ename": "ValueError",
     "evalue": "invalid literal for int() with base 10: ''",
     "output_type": "error",
     "traceback": [
      "\u001B[1;31m---------------------------------------------------------------------------\u001B[0m",
      "\u001B[1;31mValueError\u001B[0m                                Traceback (most recent call last)",
      "Cell \u001B[1;32mIn[5], line 3\u001B[0m\n\u001B[0;32m      1\u001B[0m age\u001B[38;5;241m=\u001B[39m\u001B[38;5;28mint\u001B[39m(\u001B[38;5;28minput\u001B[39m(\u001B[38;5;124m\"\u001B[39m\u001B[38;5;124mAge:\u001B[39m\u001B[38;5;124m\"\u001B[39m))\n\u001B[0;32m      2\u001B[0m gen\u001B[38;5;241m=\u001B[39m\u001B[38;5;28mint\u001B[39m(\u001B[38;5;28minput\u001B[39m(\u001B[38;5;124m\"\u001B[39m\u001B[38;5;124mis_male?:\u001B[39m\u001B[38;5;124m\"\u001B[39m))\n\u001B[1;32m----> 3\u001B[0m cp\u001B[38;5;241m=\u001B[39m\u001B[38;5;28;43mint\u001B[39;49m\u001B[43m(\u001B[49m\u001B[38;5;28;43minput\u001B[39;49m\u001B[43m(\u001B[49m\u001B[38;5;124;43m\"\u001B[39;49m\u001B[38;5;124;43mcp:\u001B[39;49m\u001B[38;5;124;43m\"\u001B[39;49m\u001B[43m)\u001B[49m\u001B[43m)\u001B[49m\n\u001B[0;32m      4\u001B[0m bp\u001B[38;5;241m=\u001B[39m\u001B[38;5;28mint\u001B[39m(\u001B[38;5;28minput\u001B[39m(\u001B[38;5;124m\"\u001B[39m\u001B[38;5;124mbp?:\u001B[39m\u001B[38;5;124m\"\u001B[39m))\n\u001B[0;32m      5\u001B[0m chol\u001B[38;5;241m=\u001B[39m\u001B[38;5;28mint\u001B[39m(\u001B[38;5;28minput\u001B[39m(\u001B[38;5;124m\"\u001B[39m\u001B[38;5;124mCholesterol:\u001B[39m\u001B[38;5;124m\"\u001B[39m))\n",
      "\u001B[1;31mValueError\u001B[0m: invalid literal for int() with base 10: ''"
     ]
    }
   ],
   "source": [
    "age=int(input(\"Age:\"))\n",
    "gen=int(input(\"is_male?:\"))\n",
    "cp=int(input(\"cp:\"))\n",
    "bp=int(input(\"bp?:\"))\n",
    "chol=int(input(\"Cholesterol:\"))\n",
    "fbs=int(input(\"fbs:\"))\n",
    "restecg=int(input(\"restecg:\"))\n",
    "thalach=int(input(\"thalach:\"))\n",
    "exang=int(input(\"exang:\"))\n",
    "oldpeak=int(input(\"oldpeak:\"))\n",
    "slope=int(input(\"slope:\"))\n",
    "ca=int(input(\"ca:\"))\n",
    "thal=int(input(\"thal:\"))\n",
    "\n",
    "\n",
    "data1=[age,gen,cp,bp,chol,fbs,restecg,thalach,exang,oldpeak,slope,ca,thal]"
   ],
   "metadata": {
    "collapsed": false
   }
  },
  {
   "cell_type": "code",
   "execution_count": 5,
   "outputs": [],
   "source": [
    "data1=[55,1,1,120,200,1,1,120,0,0.9,1,2,1]"
   ],
   "metadata": {
    "collapsed": false
   }
  },
  {
   "cell_type": "markdown",
   "source": [
    "-------\n",
    "### Decision Tree"
   ],
   "metadata": {
    "collapsed": false
   }
  },
  {
   "cell_type": "code",
   "execution_count": 16,
   "outputs": [
    {
     "name": "stdout",
     "output_type": "stream",
     "text": [
      "The prediction of this model:\n"
     ]
    },
    {
     "data": {
      "text/plain": "1"
     },
     "execution_count": 16,
     "metadata": {},
     "output_type": "execute_result"
    }
   ],
   "source": [
    "tree_classifier = DecisionTreeClassifier(criterion = 'entropy', random_state = 0)\n",
    "tree_classifier.fit(x,y)\n",
    "tree_pred=tree_classifier.predict([data1])\n",
    "print(\"The prediction of this model:\")\n",
    "tree_pred[0]"
   ],
   "metadata": {
    "collapsed": false
   }
  },
  {
   "cell_type": "markdown",
   "source": [
    "### Logistic Regression"
   ],
   "metadata": {
    "collapsed": false
   }
  },
  {
   "cell_type": "code",
   "execution_count": 18,
   "outputs": [
    {
     "name": "stdout",
     "output_type": "stream",
     "text": [
      "The prediction of this model:\n"
     ]
    },
    {
     "data": {
      "text/plain": "0"
     },
     "execution_count": 18,
     "metadata": {},
     "output_type": "execute_result"
    }
   ],
   "source": [
    "reg_classifier = LogisticRegression()\n",
    "reg_classifier.fit(x,y)\n",
    "reg_pred = reg_classifier.predict([data1])\n",
    "print(\"The prediction of this model:\")\n",
    "reg_pred[0]"
   ],
   "metadata": {
    "collapsed": false
   }
  },
  {
   "cell_type": "markdown",
   "source": [
    "### Random Forest"
   ],
   "metadata": {
    "collapsed": false
   }
  },
  {
   "cell_type": "code",
   "execution_count": 19,
   "outputs": [
    {
     "name": "stdout",
     "output_type": "stream",
     "text": [
      "The prediction of this model:\n"
     ]
    },
    {
     "data": {
      "text/plain": "0.57"
     },
     "execution_count": 19,
     "metadata": {},
     "output_type": "execute_result"
    }
   ],
   "source": [
    "ranForClassifier = RandomForestRegressor()\n",
    "ranForClassifier.fit(x,y)\n",
    "ranfor_pred=ranForClassifier.predict([data1])\n",
    "print(\"The prediction of this model:\")\n",
    "ranfor_pred[0]"
   ],
   "metadata": {
    "collapsed": false
   }
  },
  {
   "cell_type": "markdown",
   "source": [
    "### Support Vector Machine"
   ],
   "metadata": {
    "collapsed": false
   }
  },
  {
   "cell_type": "code",
   "execution_count": 20,
   "outputs": [
    {
     "name": "stdout",
     "output_type": "stream",
     "text": [
      "The prediction of this model:\n"
     ]
    },
    {
     "data": {
      "text/plain": "1"
     },
     "execution_count": 20,
     "metadata": {},
     "output_type": "execute_result"
    }
   ],
   "source": [
    "svm_classifier = SVC(kernel = 'linear', random_state = 0)\n",
    "svm_classifier.fit(x,y)\n",
    "svm_pred=svm_classifier.predict([data1])\n",
    "print(\"The prediction of this model:\")\n",
    "svm_pred[0]"
   ],
   "metadata": {
    "collapsed": false
   }
  },
  {
   "cell_type": "markdown",
   "source": [
    "### Naive Bayes"
   ],
   "metadata": {
    "collapsed": false
   }
  },
  {
   "cell_type": "code",
   "execution_count": 21,
   "outputs": [
    {
     "name": "stdout",
     "output_type": "stream",
     "text": [
      "The prediction of this model:\n"
     ]
    },
    {
     "data": {
      "text/plain": "0"
     },
     "execution_count": 21,
     "metadata": {},
     "output_type": "execute_result"
    }
   ],
   "source": [
    "guass_model=GaussianNB()\n",
    "guass_model.fit(x,y)\n",
    "naive_pred=guass_model.predict([data1])\n",
    "print(\"The prediction of this model:\")\n",
    "naive_pred[0]"
   ],
   "metadata": {
    "collapsed": false
   }
  },
  {
   "cell_type": "markdown",
   "source": [
    "## K-Nearest Neighbours"
   ],
   "metadata": {
    "collapsed": false
   }
  },
  {
   "cell_type": "code",
   "execution_count": 22,
   "outputs": [
    {
     "name": "stdout",
     "output_type": "stream",
     "text": [
      "The prediction of this model:\n"
     ]
    },
    {
     "data": {
      "text/plain": "1"
     },
     "execution_count": 22,
     "metadata": {},
     "output_type": "execute_result"
    }
   ],
   "source": [
    "knn_classifier= KNeighborsClassifier(n_neighbors=5, metric='minkowski', p=2 )\n",
    "knn_classifier.fit(x,y)\n",
    "knn_pred=knn_classifier.predict([data1])\n",
    "print(\"The prediction of this model:\")\n",
    "knn_pred[0]"
   ],
   "metadata": {
    "collapsed": false
   }
  },
  {
   "cell_type": "markdown",
   "source": [
    "-------\n",
    "### Deep Neural Network Classification"
   ],
   "metadata": {
    "collapsed": false
   }
  },
  {
   "cell_type": "code",
   "execution_count": 23,
   "outputs": [],
   "source": [
    "import keras\n",
    "from keras.models import Sequential\n",
    "from keras.layers import Dense\n",
    "from keras.utils import to_categorical"
   ],
   "metadata": {
    "collapsed": false
   }
  },
  {
   "cell_type": "code",
   "execution_count": 27,
   "outputs": [],
   "source": [
    "x_train,x_test,y_train,y_test = train_test_split(x,y,test_size=0.25,random_state=42)\n",
    "model = Sequential()\n",
    "model.add(Dense(500, activation='relu', input_dim=13))\n",
    "model.add(Dense(100, activation='relu'))\n",
    "model.add(Dense(50, activation='relu'))\n",
    "model.add(Dense(1, activation='sigmoid'))\n"
   ],
   "metadata": {
    "collapsed": false
   }
  },
  {
   "cell_type": "code",
   "execution_count": 28,
   "outputs": [
    {
     "name": "stdout",
     "output_type": "stream",
     "text": [
      "Epoch 1/100\n",
      "24/24 [==============================] - 3s 9ms/step - loss: 1.4351 - accuracy: 0.5924\n",
      "Epoch 2/100\n",
      "24/24 [==============================] - 0s 6ms/step - loss: 0.5837 - accuracy: 0.6966\n",
      "Epoch 3/100\n",
      "24/24 [==============================] - 0s 5ms/step - loss: 0.5690 - accuracy: 0.7109\n",
      "Epoch 4/100\n",
      "24/24 [==============================] - 0s 4ms/step - loss: 0.5482 - accuracy: 0.7253\n",
      "Epoch 5/100\n",
      "24/24 [==============================] - 0s 3ms/step - loss: 0.5037 - accuracy: 0.7344\n",
      "Epoch 6/100\n",
      "24/24 [==============================] - 0s 5ms/step - loss: 0.4745 - accuracy: 0.7591\n",
      "Epoch 7/100\n",
      "24/24 [==============================] - 0s 4ms/step - loss: 0.4572 - accuracy: 0.7708\n",
      "Epoch 8/100\n",
      "24/24 [==============================] - 0s 4ms/step - loss: 0.5661 - accuracy: 0.7148\n",
      "Epoch 9/100\n",
      "24/24 [==============================] - 0s 3ms/step - loss: 0.6091 - accuracy: 0.7005\n",
      "Epoch 10/100\n",
      "24/24 [==============================] - 0s 4ms/step - loss: 0.4335 - accuracy: 0.7943\n",
      "Epoch 11/100\n",
      "24/24 [==============================] - 0s 3ms/step - loss: 0.4276 - accuracy: 0.7943\n",
      "Epoch 12/100\n",
      "24/24 [==============================] - 0s 3ms/step - loss: 0.4259 - accuracy: 0.7995\n",
      "Epoch 13/100\n",
      "24/24 [==============================] - 0s 3ms/step - loss: 0.4848 - accuracy: 0.7747\n",
      "Epoch 14/100\n",
      "24/24 [==============================] - 0s 4ms/step - loss: 0.4432 - accuracy: 0.7852\n",
      "Epoch 15/100\n",
      "24/24 [==============================] - 0s 4ms/step - loss: 0.3647 - accuracy: 0.8451\n",
      "Epoch 16/100\n",
      "24/24 [==============================] - 0s 4ms/step - loss: 0.4146 - accuracy: 0.7982\n",
      "Epoch 17/100\n",
      "24/24 [==============================] - 0s 5ms/step - loss: 0.3801 - accuracy: 0.8268\n",
      "Epoch 18/100\n",
      "24/24 [==============================] - 0s 4ms/step - loss: 0.3592 - accuracy: 0.8268\n",
      "Epoch 19/100\n",
      "24/24 [==============================] - 0s 4ms/step - loss: 0.3715 - accuracy: 0.8333\n",
      "Epoch 20/100\n",
      "24/24 [==============================] - 0s 4ms/step - loss: 0.4949 - accuracy: 0.7734\n",
      "Epoch 21/100\n",
      "24/24 [==============================] - 0s 4ms/step - loss: 0.3537 - accuracy: 0.8503\n",
      "Epoch 22/100\n",
      "24/24 [==============================] - 0s 4ms/step - loss: 0.3726 - accuracy: 0.8359\n",
      "Epoch 23/100\n",
      "24/24 [==============================] - 0s 4ms/step - loss: 0.3589 - accuracy: 0.8411\n",
      "Epoch 24/100\n",
      "24/24 [==============================] - 0s 4ms/step - loss: 0.4215 - accuracy: 0.8060\n",
      "Epoch 25/100\n",
      "24/24 [==============================] - 0s 4ms/step - loss: 0.3835 - accuracy: 0.8307\n",
      "Epoch 26/100\n",
      "24/24 [==============================] - 0s 6ms/step - loss: 0.3765 - accuracy: 0.8255\n",
      "Epoch 27/100\n",
      "24/24 [==============================] - 0s 5ms/step - loss: 0.3568 - accuracy: 0.8568\n",
      "Epoch 28/100\n",
      "24/24 [==============================] - 0s 5ms/step - loss: 0.3590 - accuracy: 0.8307\n",
      "Epoch 29/100\n",
      "24/24 [==============================] - 0s 5ms/step - loss: 0.4352 - accuracy: 0.8060\n",
      "Epoch 30/100\n",
      "24/24 [==============================] - 0s 5ms/step - loss: 0.4093 - accuracy: 0.8281\n",
      "Epoch 31/100\n",
      "24/24 [==============================] - 0s 5ms/step - loss: 0.3596 - accuracy: 0.8490\n",
      "Epoch 32/100\n",
      "24/24 [==============================] - 0s 4ms/step - loss: 0.3665 - accuracy: 0.8424\n",
      "Epoch 33/100\n",
      "24/24 [==============================] - 0s 3ms/step - loss: 0.3785 - accuracy: 0.8438\n",
      "Epoch 34/100\n",
      "24/24 [==============================] - 0s 5ms/step - loss: 0.3290 - accuracy: 0.8633\n",
      "Epoch 35/100\n",
      "24/24 [==============================] - 0s 4ms/step - loss: 0.3581 - accuracy: 0.8359\n",
      "Epoch 36/100\n",
      "24/24 [==============================] - 0s 3ms/step - loss: 0.3899 - accuracy: 0.8242\n",
      "Epoch 37/100\n",
      "24/24 [==============================] - 0s 4ms/step - loss: 0.3500 - accuracy: 0.8490\n",
      "Epoch 38/100\n",
      "24/24 [==============================] - 0s 4ms/step - loss: 0.3784 - accuracy: 0.8216\n",
      "Epoch 39/100\n",
      "24/24 [==============================] - 0s 3ms/step - loss: 0.3793 - accuracy: 0.8229\n",
      "Epoch 40/100\n",
      "24/24 [==============================] - 0s 3ms/step - loss: 0.4205 - accuracy: 0.8190\n",
      "Epoch 41/100\n",
      "24/24 [==============================] - 0s 4ms/step - loss: 0.3619 - accuracy: 0.8529\n",
      "Epoch 42/100\n",
      "24/24 [==============================] - 0s 5ms/step - loss: 0.3786 - accuracy: 0.8411\n",
      "Epoch 43/100\n",
      "24/24 [==============================] - 0s 5ms/step - loss: 0.3846 - accuracy: 0.8568\n",
      "Epoch 44/100\n",
      "24/24 [==============================] - 0s 6ms/step - loss: 0.4222 - accuracy: 0.8099\n",
      "Epoch 45/100\n",
      "24/24 [==============================] - 0s 11ms/step - loss: 0.4225 - accuracy: 0.8112\n",
      "Epoch 46/100\n",
      "24/24 [==============================] - 0s 5ms/step - loss: 0.3418 - accuracy: 0.8477\n",
      "Epoch 47/100\n",
      "24/24 [==============================] - 0s 4ms/step - loss: 0.4199 - accuracy: 0.8294\n",
      "Epoch 48/100\n",
      "24/24 [==============================] - 0s 4ms/step - loss: 0.4016 - accuracy: 0.8307\n",
      "Epoch 49/100\n",
      "24/24 [==============================] - 0s 3ms/step - loss: 0.4147 - accuracy: 0.8125\n",
      "Epoch 50/100\n",
      "24/24 [==============================] - 0s 4ms/step - loss: 0.3336 - accuracy: 0.8594\n",
      "Epoch 51/100\n",
      "24/24 [==============================] - 0s 4ms/step - loss: 0.3315 - accuracy: 0.8529\n",
      "Epoch 52/100\n",
      "24/24 [==============================] - 0s 4ms/step - loss: 0.3196 - accuracy: 0.8724\n",
      "Epoch 53/100\n",
      "24/24 [==============================] - 0s 7ms/step - loss: 0.3569 - accuracy: 0.8516\n",
      "Epoch 54/100\n",
      "24/24 [==============================] - 0s 3ms/step - loss: 0.3325 - accuracy: 0.8672\n",
      "Epoch 55/100\n",
      "24/24 [==============================] - 0s 5ms/step - loss: 0.3182 - accuracy: 0.8711\n",
      "Epoch 56/100\n",
      "24/24 [==============================] - 0s 6ms/step - loss: 0.3310 - accuracy: 0.8646\n",
      "Epoch 57/100\n",
      "24/24 [==============================] - 0s 5ms/step - loss: 0.3102 - accuracy: 0.8659\n",
      "Epoch 58/100\n",
      "24/24 [==============================] - 0s 4ms/step - loss: 0.3211 - accuracy: 0.8633\n",
      "Epoch 59/100\n",
      "24/24 [==============================] - 0s 3ms/step - loss: 0.3311 - accuracy: 0.8659\n",
      "Epoch 60/100\n",
      "24/24 [==============================] - 0s 3ms/step - loss: 0.3261 - accuracy: 0.8633\n",
      "Epoch 61/100\n",
      "24/24 [==============================] - 0s 3ms/step - loss: 0.3237 - accuracy: 0.8529\n",
      "Epoch 62/100\n",
      "24/24 [==============================] - 0s 4ms/step - loss: 0.3313 - accuracy: 0.8607\n",
      "Epoch 63/100\n",
      "24/24 [==============================] - 0s 3ms/step - loss: 0.4175 - accuracy: 0.7995\n",
      "Epoch 64/100\n",
      "24/24 [==============================] - 0s 4ms/step - loss: 0.3492 - accuracy: 0.8451\n",
      "Epoch 65/100\n",
      "24/24 [==============================] - 0s 3ms/step - loss: 0.3395 - accuracy: 0.8516\n",
      "Epoch 66/100\n",
      "24/24 [==============================] - 0s 3ms/step - loss: 0.3574 - accuracy: 0.8438\n",
      "Epoch 67/100\n",
      "24/24 [==============================] - 0s 4ms/step - loss: 0.3203 - accuracy: 0.8711\n",
      "Epoch 68/100\n",
      "24/24 [==============================] - 0s 3ms/step - loss: 0.3353 - accuracy: 0.8646\n",
      "Epoch 69/100\n",
      "24/24 [==============================] - 0s 4ms/step - loss: 0.3158 - accuracy: 0.8724\n",
      "Epoch 70/100\n",
      "24/24 [==============================] - 0s 3ms/step - loss: 0.3329 - accuracy: 0.8542\n",
      "Epoch 71/100\n",
      "24/24 [==============================] - 0s 3ms/step - loss: 0.3420 - accuracy: 0.8555\n",
      "Epoch 72/100\n",
      "24/24 [==============================] - 0s 3ms/step - loss: 0.3372 - accuracy: 0.8555\n",
      "Epoch 73/100\n",
      "24/24 [==============================] - 0s 3ms/step - loss: 0.3341 - accuracy: 0.8607\n",
      "Epoch 74/100\n",
      "24/24 [==============================] - 0s 3ms/step - loss: 0.3585 - accuracy: 0.8542\n",
      "Epoch 75/100\n",
      "24/24 [==============================] - 0s 3ms/step - loss: 0.3226 - accuracy: 0.8698\n",
      "Epoch 76/100\n",
      "24/24 [==============================] - 0s 5ms/step - loss: 0.3452 - accuracy: 0.8464\n",
      "Epoch 77/100\n",
      "24/24 [==============================] - 0s 5ms/step - loss: 0.3076 - accuracy: 0.8763\n",
      "Epoch 78/100\n",
      "24/24 [==============================] - 0s 4ms/step - loss: 0.3238 - accuracy: 0.8607\n",
      "Epoch 79/100\n",
      "24/24 [==============================] - 0s 3ms/step - loss: 0.3173 - accuracy: 0.8646\n",
      "Epoch 80/100\n",
      "24/24 [==============================] - 0s 3ms/step - loss: 0.3574 - accuracy: 0.8242\n",
      "Epoch 81/100\n",
      "24/24 [==============================] - 0s 3ms/step - loss: 0.3071 - accuracy: 0.8828\n",
      "Epoch 82/100\n",
      "24/24 [==============================] - 0s 3ms/step - loss: 0.3059 - accuracy: 0.8763\n",
      "Epoch 83/100\n",
      "24/24 [==============================] - 0s 4ms/step - loss: 0.3426 - accuracy: 0.8503\n",
      "Epoch 84/100\n",
      "24/24 [==============================] - 0s 4ms/step - loss: 0.3070 - accuracy: 0.8750\n",
      "Epoch 85/100\n",
      "24/24 [==============================] - 0s 3ms/step - loss: 0.3109 - accuracy: 0.8698\n",
      "Epoch 86/100\n",
      "24/24 [==============================] - 0s 3ms/step - loss: 0.3203 - accuracy: 0.8685\n",
      "Epoch 87/100\n",
      "24/24 [==============================] - 0s 5ms/step - loss: 0.3457 - accuracy: 0.8503\n",
      "Epoch 88/100\n",
      "24/24 [==============================] - 0s 3ms/step - loss: 0.3317 - accuracy: 0.8646\n",
      "Epoch 89/100\n",
      "24/24 [==============================] - 0s 3ms/step - loss: 0.3008 - accuracy: 0.8776\n",
      "Epoch 90/100\n",
      "24/24 [==============================] - 0s 3ms/step - loss: 0.3058 - accuracy: 0.8685\n",
      "Epoch 91/100\n",
      "24/24 [==============================] - 0s 5ms/step - loss: 0.3164 - accuracy: 0.8737\n",
      "Epoch 92/100\n",
      "24/24 [==============================] - 0s 3ms/step - loss: 0.3330 - accuracy: 0.8672\n",
      "Epoch 93/100\n",
      "24/24 [==============================] - 0s 3ms/step - loss: 0.3103 - accuracy: 0.8685\n",
      "Epoch 94/100\n",
      "24/24 [==============================] - 0s 4ms/step - loss: 0.3517 - accuracy: 0.8398\n",
      "Epoch 95/100\n",
      "24/24 [==============================] - 0s 4ms/step - loss: 0.3191 - accuracy: 0.8724\n",
      "Epoch 96/100\n",
      "24/24 [==============================] - 0s 3ms/step - loss: 0.3050 - accuracy: 0.8659\n",
      "Epoch 97/100\n",
      "24/24 [==============================] - 0s 3ms/step - loss: 0.3328 - accuracy: 0.8594\n",
      "Epoch 98/100\n",
      "24/24 [==============================] - 0s 3ms/step - loss: 0.3036 - accuracy: 0.8620\n",
      "Epoch 99/100\n",
      "24/24 [==============================] - 0s 3ms/step - loss: 0.3140 - accuracy: 0.8737\n",
      "Epoch 100/100\n",
      "24/24 [==============================] - 0s 4ms/step - loss: 0.3218 - accuracy: 0.8646\n"
     ]
    },
    {
     "data": {
      "text/plain": "<keras.src.callbacks.History at 0x2cf4d96ef50>"
     },
     "execution_count": 28,
     "metadata": {},
     "output_type": "execute_result"
    }
   ],
   "source": [
    "model.compile(optimizer='adam',\n",
    "              loss='binary_crossentropy',\n",
    "              metrics=['accuracy'])\n",
    "model.fit(x_train,y_train, epochs=100)"
   ],
   "metadata": {
    "collapsed": false
   }
  },
  {
   "cell_type": "code",
   "execution_count": 35,
   "outputs": [
    {
     "name": "stdout",
     "output_type": "stream",
     "text": [
      "9/9 [==============================] - 0s 4ms/step\n"
     ]
    },
    {
     "data": {
      "text/plain": "            0  res\n0    0.984736    1\n1    0.996324    1\n2    0.097343    0\n3    0.971039    1\n4    0.134509    0\n..        ...  ...\n252  0.594295    0\n253  0.001921    0\n254  0.277555    0\n255  0.996355    1\n256  0.080823    0\n\n[257 rows x 2 columns]",
      "text/html": "<div>\n<style scoped>\n    .dataframe tbody tr th:only-of-type {\n        vertical-align: middle;\n    }\n\n    .dataframe tbody tr th {\n        vertical-align: top;\n    }\n\n    .dataframe thead th {\n        text-align: right;\n    }\n</style>\n<table border=\"1\" class=\"dataframe\">\n  <thead>\n    <tr style=\"text-align: right;\">\n      <th></th>\n      <th>0</th>\n      <th>res</th>\n    </tr>\n  </thead>\n  <tbody>\n    <tr>\n      <th>0</th>\n      <td>0.984736</td>\n      <td>1</td>\n    </tr>\n    <tr>\n      <th>1</th>\n      <td>0.996324</td>\n      <td>1</td>\n    </tr>\n    <tr>\n      <th>2</th>\n      <td>0.097343</td>\n      <td>0</td>\n    </tr>\n    <tr>\n      <th>3</th>\n      <td>0.971039</td>\n      <td>1</td>\n    </tr>\n    <tr>\n      <th>4</th>\n      <td>0.134509</td>\n      <td>0</td>\n    </tr>\n    <tr>\n      <th>...</th>\n      <td>...</td>\n      <td>...</td>\n    </tr>\n    <tr>\n      <th>252</th>\n      <td>0.594295</td>\n      <td>0</td>\n    </tr>\n    <tr>\n      <th>253</th>\n      <td>0.001921</td>\n      <td>0</td>\n    </tr>\n    <tr>\n      <th>254</th>\n      <td>0.277555</td>\n      <td>0</td>\n    </tr>\n    <tr>\n      <th>255</th>\n      <td>0.996355</td>\n      <td>1</td>\n    </tr>\n    <tr>\n      <th>256</th>\n      <td>0.080823</td>\n      <td>0</td>\n    </tr>\n  </tbody>\n</table>\n<p>257 rows × 2 columns</p>\n</div>"
     },
     "execution_count": 35,
     "metadata": {},
     "output_type": "execute_result"
    }
   ],
   "source": [
    "mo=model.predict(x_test)\n",
    "df=pd.DataFrame(mo)\n",
    "df['res']=y_test\n",
    "df"
   ],
   "metadata": {
    "collapsed": false
   }
  },
  {
   "cell_type": "code",
   "execution_count": 36,
   "outputs": [
    {
     "name": "stdout",
     "output_type": "stream",
     "text": [
      "Epoch 1/100\n",
      "33/33 [==============================] - 2s 4ms/step - loss: 0.3727 - accuracy: 0.8361\n",
      "Epoch 2/100\n",
      "33/33 [==============================] - 0s 3ms/step - loss: 0.3735 - accuracy: 0.8332\n",
      "Epoch 3/100\n",
      "33/33 [==============================] - 0s 4ms/step - loss: 0.3166 - accuracy: 0.8634\n",
      "Epoch 4/100\n",
      "33/33 [==============================] - 0s 4ms/step - loss: 0.3471 - accuracy: 0.8410\n",
      "Epoch 5/100\n",
      "33/33 [==============================] - 0s 3ms/step - loss: 0.3694 - accuracy: 0.8332\n",
      "Epoch 6/100\n",
      "33/33 [==============================] - 0s 4ms/step - loss: 0.3791 - accuracy: 0.8224\n",
      "Epoch 7/100\n",
      "33/33 [==============================] - 0s 5ms/step - loss: 0.3363 - accuracy: 0.8498\n",
      "Epoch 8/100\n",
      "33/33 [==============================] - 0s 4ms/step - loss: 0.4060 - accuracy: 0.8107\n",
      "Epoch 9/100\n",
      "33/33 [==============================] - 0s 5ms/step - loss: 0.3345 - accuracy: 0.8488\n",
      "Epoch 10/100\n",
      "33/33 [==============================] - 0s 4ms/step - loss: 0.3267 - accuracy: 0.8576\n",
      "Epoch 11/100\n",
      "33/33 [==============================] - 0s 3ms/step - loss: 0.4082 - accuracy: 0.8107\n",
      "Epoch 12/100\n",
      "33/33 [==============================] - 0s 3ms/step - loss: 0.3964 - accuracy: 0.8273\n",
      "Epoch 13/100\n",
      "33/33 [==============================] - 0s 4ms/step - loss: 0.3742 - accuracy: 0.8263\n",
      "Epoch 14/100\n",
      "33/33 [==============================] - 0s 6ms/step - loss: 0.4309 - accuracy: 0.7902\n",
      "Epoch 15/100\n",
      "33/33 [==============================] - 0s 4ms/step - loss: 0.3506 - accuracy: 0.8439\n",
      "Epoch 16/100\n",
      "33/33 [==============================] - 0s 4ms/step - loss: 0.3399 - accuracy: 0.8507\n",
      "Epoch 17/100\n",
      "33/33 [==============================] - 0s 3ms/step - loss: 0.3932 - accuracy: 0.8224\n",
      "Epoch 18/100\n",
      "33/33 [==============================] - 0s 3ms/step - loss: 0.4839 - accuracy: 0.7766\n",
      "Epoch 19/100\n",
      "33/33 [==============================] - 0s 3ms/step - loss: 0.3565 - accuracy: 0.8283\n",
      "Epoch 20/100\n",
      "33/33 [==============================] - 0s 3ms/step - loss: 0.3912 - accuracy: 0.8224\n",
      "Epoch 21/100\n",
      "33/33 [==============================] - 0s 3ms/step - loss: 0.3675 - accuracy: 0.8361\n",
      "Epoch 22/100\n",
      "33/33 [==============================] - 0s 5ms/step - loss: 0.3987 - accuracy: 0.8156\n",
      "Epoch 23/100\n",
      "33/33 [==============================] - 0s 4ms/step - loss: 0.3558 - accuracy: 0.8459\n",
      "Epoch 24/100\n",
      "33/33 [==============================] - 0s 4ms/step - loss: 0.3444 - accuracy: 0.8507\n",
      "Epoch 25/100\n",
      "33/33 [==============================] - 0s 4ms/step - loss: 0.3365 - accuracy: 0.8478\n",
      "Epoch 26/100\n",
      "33/33 [==============================] - 0s 4ms/step - loss: 0.3151 - accuracy: 0.8644\n",
      "Epoch 27/100\n",
      "33/33 [==============================] - 0s 4ms/step - loss: 0.3467 - accuracy: 0.8488\n",
      "Epoch 28/100\n",
      "33/33 [==============================] - 0s 4ms/step - loss: 0.3936 - accuracy: 0.8156\n",
      "Epoch 29/100\n",
      "33/33 [==============================] - 0s 4ms/step - loss: 0.3230 - accuracy: 0.8585\n",
      "Epoch 30/100\n",
      "33/33 [==============================] - 0s 4ms/step - loss: 0.3103 - accuracy: 0.8673\n",
      "Epoch 31/100\n",
      "33/33 [==============================] - 0s 4ms/step - loss: 0.3776 - accuracy: 0.8332\n",
      "Epoch 32/100\n",
      "33/33 [==============================] - 0s 3ms/step - loss: 0.3243 - accuracy: 0.8624\n",
      "Epoch 33/100\n",
      "33/33 [==============================] - 0s 3ms/step - loss: 0.3095 - accuracy: 0.8615\n",
      "Epoch 34/100\n",
      "33/33 [==============================] - 0s 3ms/step - loss: 0.3188 - accuracy: 0.8673\n",
      "Epoch 35/100\n",
      "33/33 [==============================] - 0s 3ms/step - loss: 0.3243 - accuracy: 0.8507\n",
      "Epoch 36/100\n",
      "33/33 [==============================] - 0s 3ms/step - loss: 0.4310 - accuracy: 0.7766\n",
      "Epoch 37/100\n",
      "33/33 [==============================] - 0s 3ms/step - loss: 0.3477 - accuracy: 0.8468\n",
      "Epoch 38/100\n",
      "33/33 [==============================] - 0s 4ms/step - loss: 0.3531 - accuracy: 0.8478\n",
      "Epoch 39/100\n",
      "33/33 [==============================] - 0s 4ms/step - loss: 0.3454 - accuracy: 0.8488\n",
      "Epoch 40/100\n",
      "33/33 [==============================] - 0s 4ms/step - loss: 0.3277 - accuracy: 0.8478\n",
      "Epoch 41/100\n",
      "33/33 [==============================] - 0s 3ms/step - loss: 0.3186 - accuracy: 0.8488\n",
      "Epoch 42/100\n",
      "33/33 [==============================] - 0s 3ms/step - loss: 0.3226 - accuracy: 0.8537\n",
      "Epoch 43/100\n",
      "33/33 [==============================] - 0s 4ms/step - loss: 0.3063 - accuracy: 0.8585\n",
      "Epoch 44/100\n",
      "33/33 [==============================] - 0s 4ms/step - loss: 0.3194 - accuracy: 0.8605\n",
      "Epoch 45/100\n",
      "33/33 [==============================] - 0s 3ms/step - loss: 0.3563 - accuracy: 0.8293\n",
      "Epoch 46/100\n",
      "33/33 [==============================] - 0s 4ms/step - loss: 0.3275 - accuracy: 0.8537\n",
      "Epoch 47/100\n",
      "33/33 [==============================] - 0s 4ms/step - loss: 0.3351 - accuracy: 0.8605\n",
      "Epoch 48/100\n",
      "33/33 [==============================] - 0s 4ms/step - loss: 0.3334 - accuracy: 0.8449\n",
      "Epoch 49/100\n",
      "33/33 [==============================] - 0s 3ms/step - loss: 0.4065 - accuracy: 0.7980\n",
      "Epoch 50/100\n",
      "33/33 [==============================] - 0s 5ms/step - loss: 0.3444 - accuracy: 0.8429\n",
      "Epoch 51/100\n",
      "33/33 [==============================] - 0s 4ms/step - loss: 0.3194 - accuracy: 0.8488\n",
      "Epoch 52/100\n",
      "33/33 [==============================] - 0s 3ms/step - loss: 0.3070 - accuracy: 0.8741\n",
      "Epoch 53/100\n",
      "33/33 [==============================] - 0s 3ms/step - loss: 0.3640 - accuracy: 0.8351\n",
      "Epoch 54/100\n",
      "33/33 [==============================] - 0s 3ms/step - loss: 0.3117 - accuracy: 0.8624\n",
      "Epoch 55/100\n",
      "33/33 [==============================] - 0s 3ms/step - loss: 0.3524 - accuracy: 0.8341\n",
      "Epoch 56/100\n",
      "33/33 [==============================] - 0s 3ms/step - loss: 0.3297 - accuracy: 0.8556\n",
      "Epoch 57/100\n",
      "33/33 [==============================] - 0s 3ms/step - loss: 0.3887 - accuracy: 0.8205\n",
      "Epoch 58/100\n",
      "33/33 [==============================] - 0s 3ms/step - loss: 0.3278 - accuracy: 0.8546\n",
      "Epoch 59/100\n",
      "33/33 [==============================] - 0s 3ms/step - loss: 0.3564 - accuracy: 0.8293\n",
      "Epoch 60/100\n",
      "33/33 [==============================] - 0s 3ms/step - loss: 0.3114 - accuracy: 0.8498\n",
      "Epoch 61/100\n",
      "33/33 [==============================] - 0s 3ms/step - loss: 0.3010 - accuracy: 0.8634\n",
      "Epoch 62/100\n",
      "33/33 [==============================] - 0s 3ms/step - loss: 0.4905 - accuracy: 0.7600\n",
      "Epoch 63/100\n",
      "33/33 [==============================] - 0s 4ms/step - loss: 0.3716 - accuracy: 0.8234\n",
      "Epoch 64/100\n",
      "33/33 [==============================] - 0s 3ms/step - loss: 0.3276 - accuracy: 0.8527\n",
      "Epoch 65/100\n",
      "33/33 [==============================] - 0s 3ms/step - loss: 0.3257 - accuracy: 0.8517\n",
      "Epoch 66/100\n",
      "33/33 [==============================] - 0s 3ms/step - loss: 0.4452 - accuracy: 0.7893\n",
      "Epoch 67/100\n",
      "33/33 [==============================] - 0s 3ms/step - loss: 0.3436 - accuracy: 0.8517\n",
      "Epoch 68/100\n",
      "33/33 [==============================] - 0s 4ms/step - loss: 0.3308 - accuracy: 0.8566\n",
      "Epoch 69/100\n",
      "33/33 [==============================] - 0s 3ms/step - loss: 0.3264 - accuracy: 0.8537\n",
      "Epoch 70/100\n",
      "33/33 [==============================] - 0s 3ms/step - loss: 0.3221 - accuracy: 0.8634\n",
      "Epoch 71/100\n",
      "33/33 [==============================] - 0s 3ms/step - loss: 0.3343 - accuracy: 0.8537\n",
      "Epoch 72/100\n",
      "33/33 [==============================] - 0s 3ms/step - loss: 0.3943 - accuracy: 0.8283\n",
      "Epoch 73/100\n",
      "33/33 [==============================] - 0s 3ms/step - loss: 0.3318 - accuracy: 0.8693\n",
      "Epoch 74/100\n",
      "33/33 [==============================] - 0s 3ms/step - loss: 0.3140 - accuracy: 0.8712\n",
      "Epoch 75/100\n",
      "33/33 [==============================] - 0s 4ms/step - loss: 0.3309 - accuracy: 0.8507\n",
      "Epoch 76/100\n",
      "33/33 [==============================] - 0s 4ms/step - loss: 0.3106 - accuracy: 0.8605\n",
      "Epoch 77/100\n",
      "33/33 [==============================] - 0s 3ms/step - loss: 0.3715 - accuracy: 0.8576\n",
      "Epoch 78/100\n",
      "33/33 [==============================] - 0s 3ms/step - loss: 0.4359 - accuracy: 0.8185\n",
      "Epoch 79/100\n",
      "33/33 [==============================] - 0s 5ms/step - loss: 0.3639 - accuracy: 0.8459\n",
      "Epoch 80/100\n",
      "33/33 [==============================] - 0s 4ms/step - loss: 0.3374 - accuracy: 0.8576\n",
      "Epoch 81/100\n",
      "33/33 [==============================] - 0s 3ms/step - loss: 0.3294 - accuracy: 0.8624\n",
      "Epoch 82/100\n",
      "33/33 [==============================] - 0s 4ms/step - loss: 0.3476 - accuracy: 0.8459\n",
      "Epoch 83/100\n",
      "33/33 [==============================] - 0s 3ms/step - loss: 0.3410 - accuracy: 0.8546\n",
      "Epoch 84/100\n",
      "33/33 [==============================] - 0s 3ms/step - loss: 0.3348 - accuracy: 0.8566\n",
      "Epoch 85/100\n",
      "33/33 [==============================] - 0s 3ms/step - loss: 0.3250 - accuracy: 0.8566\n",
      "Epoch 86/100\n",
      "33/33 [==============================] - 0s 4ms/step - loss: 0.3648 - accuracy: 0.8390\n",
      "Epoch 87/100\n",
      "33/33 [==============================] - 0s 4ms/step - loss: 0.6621 - accuracy: 0.6878\n",
      "Epoch 88/100\n",
      "33/33 [==============================] - 0s 4ms/step - loss: 0.4153 - accuracy: 0.8088\n",
      "Epoch 89/100\n",
      "33/33 [==============================] - 0s 7ms/step - loss: 0.4638 - accuracy: 0.7668\n",
      "Epoch 90/100\n",
      "33/33 [==============================] - 0s 6ms/step - loss: 0.4315 - accuracy: 0.7990\n",
      "Epoch 91/100\n",
      "33/33 [==============================] - 0s 4ms/step - loss: 0.3619 - accuracy: 0.8498\n",
      "Epoch 92/100\n",
      "33/33 [==============================] - 0s 4ms/step - loss: 0.3535 - accuracy: 0.8439\n",
      "Epoch 93/100\n",
      "33/33 [==============================] - 0s 9ms/step - loss: 0.4156 - accuracy: 0.8302\n",
      "Epoch 94/100\n",
      "33/33 [==============================] - 0s 5ms/step - loss: 0.3524 - accuracy: 0.8400\n",
      "Epoch 95/100\n",
      "33/33 [==============================] - 0s 7ms/step - loss: 0.3337 - accuracy: 0.8546\n",
      "Epoch 96/100\n",
      "33/33 [==============================] - 0s 6ms/step - loss: 0.3272 - accuracy: 0.8498\n",
      "Epoch 97/100\n",
      "33/33 [==============================] - 0s 4ms/step - loss: 0.3655 - accuracy: 0.8254\n",
      "Epoch 98/100\n",
      "33/33 [==============================] - 0s 4ms/step - loss: 0.3766 - accuracy: 0.8410\n",
      "Epoch 99/100\n",
      "33/33 [==============================] - 0s 3ms/step - loss: 0.3278 - accuracy: 0.8585\n",
      "Epoch 100/100\n",
      "33/33 [==============================] - 0s 4ms/step - loss: 0.3440 - accuracy: 0.8429\n"
     ]
    },
    {
     "data": {
      "text/plain": "<keras.src.callbacks.History at 0x2cf50072e50>"
     },
     "execution_count": 36,
     "metadata": {},
     "output_type": "execute_result"
    }
   ],
   "source": [
    "model.compile(optimizer='adam',\n",
    "              loss='binary_crossentropy',\n",
    "              metrics=['accuracy'])\n",
    "model.fit(x,y, epochs=100)"
   ],
   "metadata": {
    "collapsed": false
   }
  },
  {
   "cell_type": "code",
   "execution_count": 37,
   "outputs": [
    {
     "name": "stdout",
     "output_type": "stream",
     "text": [
      "1/1 [==============================] - 0s 127ms/step\n"
     ]
    },
    {
     "data": {
      "text/plain": "array([[0.35756662]], dtype=float32)"
     },
     "execution_count": 37,
     "metadata": {},
     "output_type": "execute_result"
    }
   ],
   "source": [
    "model.predict([data1])"
   ],
   "metadata": {
    "collapsed": false
   }
  }
 ],
 "metadata": {
  "kernelspec": {
   "display_name": "Python 3",
   "language": "python",
   "name": "python3"
  },
  "language_info": {
   "codemirror_mode": {
    "name": "ipython",
    "version": 2
   },
   "file_extension": ".py",
   "mimetype": "text/x-python",
   "name": "python",
   "nbconvert_exporter": "python",
   "pygments_lexer": "ipython2",
   "version": "2.7.6"
  }
 },
 "nbformat": 4,
 "nbformat_minor": 0
}
